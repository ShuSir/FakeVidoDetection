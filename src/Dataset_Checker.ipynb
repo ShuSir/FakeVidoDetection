{
 "cells": [
  {
   "cell_type": "code",
   "execution_count": 1,
   "metadata": {},
   "outputs": [],
   "source": [
    "import cv2\n",
    "import os\n",
    "import numpy as np\n",
    "import time\n",
    "import sys\n",
    "import argparse\n",
    "import base64\n",
    "# import imutils\n",
    "# import imageio\n",
    "# from moviepy.video.io.ffmpeg_tools import ffmpeg_extract_subclip"
   ]
  },
  {
   "cell_type": "code",
   "execution_count": 3,
   "metadata": {},
   "outputs": [
    {
     "data": {
      "text/plain": [
       "'/mnt/fakeface/FakeDetect/src'"
      ]
     },
     "execution_count": 3,
     "metadata": {},
     "output_type": "execute_result"
    }
   ],
   "source": [
    "os.getcwd()"
   ]
  },
  {
   "cell_type": "code",
   "execution_count": 4,
   "metadata": {},
   "outputs": [
    {
     "data": {
      "text/plain": [
       "1018"
      ]
     },
     "execution_count": 4,
     "metadata": {},
     "output_type": "execute_result"
    }
   ],
   "source": [
    "101819/100"
   ]
  },
  {
   "cell_type": "code",
   "execution_count": 23,
   "metadata": {},
   "outputs": [],
   "source": [
    "# Obama\n",
    "# inpath= '/mnt/fakeface/FakeDetect/Video_Obama/fake_video' #-283916 frames, 2791s, 117 videos [done] # test negative\n",
    "# inpath= '/mnt/fakeface/FakeDetect/Video_Obama/original_video/Obama/Test' #-196541, 6720s, 76 videos [done] # test positive \n",
    "# inpath= '/mnt/fakeface/FakeDetect/Video_Obama/original_video/Obama/Train' #-207994, 7115s, 80 videos [done] # train Positive\n",
    "# inpath= '/mnt/fakeface/FakeDetect/Video_Obama/original_video/Others' #-184116 frames, 6335s, 500 videos [done] # train negative \n",
    "# inpath= '/mnt/fakeface/FakeDetect/Video_Obama/original_video/Impersonator' #-12107 frames, 417s, 5 videos [done] # test negative \n",
    "# inpath= '/mnt/fakeface/FakeDetect/Video_Obama/real_video_compressed/bitrate' #-28648 frames, 983s, 10 videos [done] # test negative \n",
    "# inpath= '/mnt/fakeface/FakeDetect/Video_Obama/fake_video_compressed/framesize' #-128616 frames, 1269s, 50 videos [done] # test negative \n",
    "\n",
    "# Politician \n",
    "# inpath= '/mnt/fakeface/FakeDetect/Video_Politician/Hillary' #-194990 frames, 6596s, 6 videos [done] # test negative \n",
    "# inpath= '/mnt/fakeface/FakeDetect/Video_Politician/May' #-194990 frames, 6596s, 6 videos [done] # test negative \n",
    "# inpath= '/mnt/fakeface/FakeDetect/Video_Politician/Pompeo' #-194990 frames, 6596s, 6 videos [done] # test negative \n",
    "# inpath= '/mnt/fakeface/FakeDetect/Video_Politician/govstaff' #-194990 frames, 6596s, 6 videos [done] # test negative \n",
    "\n",
    "\n",
    "# Trump\n",
    "# inpath= '/mnt/fakeface/FakeDetect/Video_Trump/fake_video' #-121328 frames, 1184s, 73 videos [done] # test negative \n",
    "# inpath= '/mnt/fakeface/FakeDetect/Video_Trump/original_video/Trump/Test' #-23838 frames, 1027s, 12 videos [done] # test positive \n",
    "# inpath= '/mnt/fakeface/FakeDetect/Video_Trump/original_video/Trump/Train' #-35257 frames, 1207s, 14 videos [done] # train Positive\n",
    "# inpath= '/mnt/fakeface/FakeDetect/Video_Trump/original_video/Others' #-101819 frames, 3681s, 197 videos [done] # train negative "
   ]
  },
  {
   "cell_type": "code",
   "execution_count": 24,
   "metadata": {
    "scrolled": true
   },
   "outputs": [
    {
     "name": "stdout",
     "output_type": "stream",
     "text": [
      "128616\n",
      "1269\n",
      "50\n"
     ]
    }
   ],
   "source": [
    "total_frame = 0 \n",
    "total_second = 0\n",
    "total_video = 0 \n",
    "for root, dirs, files in os.walk(inpath):\n",
    "    for file in files:\n",
    "        if file.endswith(('.mp4', '.avi')):\n",
    "            video_name = os.path.join(inpath,file)\n",
    "            vidcap = cv2.VideoCapture(video_name)\n",
    "            video_length = int(vidcap.get(cv2.CAP_PROP_FRAME_COUNT)) - 1\n",
    "            fps = int(vidcap.get(cv2.CAP_PROP_FPS))\n",
    "            length_second = video_length/fps\n",
    "            total_frame += video_length\n",
    "            total_second += length_second\n",
    "            total_video += 1\n",
    "print(total_frame)\n",
    "print(total_second)\n",
    "print(total_video)"
   ]
  },
  {
   "cell_type": "code",
   "execution_count": 55,
   "metadata": {
    "scrolled": true
   },
   "outputs": [],
   "source": [
    "# vidcap = cv2.VideoCapture(inpath+video_name)\n",
    "# video_length = int(vidcap.get(cv2.CAP_PROP_FRAME_COUNT)) - 1\n",
    "# fps = int(vidcap.get(cv2.CAP_PROP_FPS))\n",
    "# lenght_second = video_length/fps"
   ]
  },
  {
   "cell_type": "code",
   "execution_count": 17,
   "metadata": {},
   "outputs": [],
   "source": [
    "frame_size = 30\n",
    "frame_overlap = frame_size // 10"
   ]
  },
  {
   "cell_type": "code",
   "execution_count": 18,
   "metadata": {},
   "outputs": [
    {
     "data": {
      "text/plain": [
       "3"
      ]
     },
     "execution_count": 18,
     "metadata": {},
     "output_type": "execute_result"
    }
   ],
   "source": [
    "frame_overlap"
   ]
  },
  {
   "cell_type": "code",
   "execution_count": 21,
   "metadata": {},
   "outputs": [],
   "source": [
    "fpr = [1,2,3]\n",
    "tpr = [2,3,4]"
   ]
  },
  {
   "cell_type": "code",
   "execution_count": 31,
   "metadata": {},
   "outputs": [
    {
     "data": {
      "text/plain": [
       "Text(0.5,1,'AUC_score:0.3')"
      ]
     },
     "execution_count": 31,
     "metadata": {},
     "output_type": "execute_result"
    },
    {
     "data": {
      "image/png": "[encoded data removed]",
      "text/plain": [
       "<Figure size 432x288 with 1 Axes>"
      ]
     },
     "metadata": {
      "needs_background": "light"
     },
     "output_type": "display_data"
    }
   ],
   "source": [
    "import matplotlib.pyplot as plt\n",
    "plt.plot(fpr, tpr)\n",
    "plt.ylabel('True Positive Rate')\n",
    "plt.xlabel('False Positive Rate')\n",
    "plt.title('AUC_score:'+str(auc_rate), loc = 'center')"
   ]
  },
  {
   "cell_type": "code",
   "execution_count": 29,
   "metadata": {},
   "outputs": [],
   "source": [
    "auc_rate= 0.3"
   ]
  },
  {
   "cell_type": "code",
   "execution_count": null,
   "metadata": {},
   "outputs": [],
   "source": []
  }
 ],
 "metadata": {
  "kernelspec": {
   "display_name": "Python 3",
   "language": "python",
   "name": "python3"
  },
  "language_info": {
   "codemirror_mode": {
    "name": "ipython",
    "version": 3
   },
   "file_extension": ".py",
   "mimetype": "text/x-python",
   "name": "python",
   "nbconvert_exporter": "python",
   "pygments_lexer": "ipython3",
   "version": "3.7.4"
  }
 },
 "nbformat": 4,
 "nbformat_minor": 2
}
